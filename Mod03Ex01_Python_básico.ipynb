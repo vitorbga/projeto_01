{
  "cells": [
    {
      "cell_type": "markdown",
      "metadata": {
        "id": "Bu_7WvrAfCnE"
      },
      "source": [
        "### 01 - Teste de gravidez\n",
        "Escreva uma célula com controle de fluxos que tem como premissa a existência das seguintes variáveis:\n",
        "\n",
        "- ```sexo``` como ```str``` indicando os valores '**M**' para masculino e '**F**' para feminino  \n",
        "- ```beta_hcg``` que indica a quantidade do beta-HCG no sangue em mUI/mL.\n",
        "\n",
        "A sua tarefa é escrever um código que imprima como resultado \"indivíduo do sexo masculino\" quando sexo = 'M', caso sexo = 'F', se o valor de beta-HCG for maior que 5, retorne \"Positivo\" indicando que a paciente está grávida, e retorne \"Negativo\" caso contrário.\n",
        "\n",
        "Não mexa nos valores da variável ```sexo``` nem em ```beta_hcg```, e escreva um código que funcione para quaisquer valores possíveis de ambos: ```sexo``` = '**M**' ou '**F**' e ```beta_hcg``` assumindo valores inteiros positivos."
      ]
    },
    {
      "cell_type": "code",
      "execution_count": 52,
      "metadata": {
        "colab": {
          "base_uri": "https://localhost:8080/"
        },
        "id": "Yjp918BHfCnM",
        "outputId": "1340286f-9761-4ac4-f961-336374b62ef2"
      },
      "outputs": [
        {
          "output_type": "stream",
          "name": "stdout",
          "text": [
            "Indivíduo do sexo masculino!\n"
          ]
        }
      ],
      "source": [
        "sexo = 'M'\n",
        "beta_hcg = 0\n",
        "\n",
        "# seu código vem abaixo desta linha\n",
        "if sexo == 'M':\n",
        "  print('Indivíduo do sexo masculino!')\n",
        "elif beta_hcg <= 5:\n",
        "  print('Negativo!')\n",
        "else:\n",
        "  print('Positivo!')"
      ]
    },
    {
      "cell_type": "markdown",
      "metadata": {
        "id": "D9ufaGvlfCnO"
      },
      "source": [
        "### 02 - Renomeando variáveis\n",
        "\n",
        "Vamos ver adiante que uma forma de renomear variáveis de um conjunto de dados é através de dicionários - o dicionário deve conter como chave o nome original, associando a cada chave um único valor (tipo *str*) que contenha o nome novo.\n",
        "\n",
        "A sua tarefa é escrever um dicionário que possa ser utilizado para traduzir as variáveis ```name``` (nome), ```age``` (idade) e ```income``` (renda). Ou seja, esse dicionário deve relacionar as chaves *name, age* e *income* às suas respectivas traduções."
      ]
    },
    {
      "cell_type": "code",
      "execution_count": null,
      "metadata": {
        "colab": {
          "base_uri": "https://localhost:8080/"
        },
        "id": "WOks6Bd9fCnP",
        "outputId": "e341a39c-7fc0-4d06-ff0c-5393e2462ac4"
      },
      "outputs": [
        {
          "output_type": "execute_result",
          "data": {
            "text/plain": [
              "{'name': 'nome', 'age': 'idade', 'income': 'renda'}"
            ]
          },
          "metadata": {},
          "execution_count": 77
        }
      ],
      "source": [
        "dic_renomeacao = {'name':'nome', 'age':'idade', 'income':'renda'}\n",
        "dic_renomeacao #['name']\n"
      ]
    },
    {
      "cell_type": "markdown",
      "metadata": {
        "id": "YLLBx9GWfCnR"
      },
      "source": [
        "### 03 - É divisível?\n",
        "A sua tarefa é escrever um código que indique se um número ```N``` é divisível por um número P. Escreva um programa que faça essa verificação para quaisquer combinações de ```N``` e ```M``` e devolva uma mensagem indicativa no output."
      ]
    },
    {
      "cell_type": "code",
      "execution_count": null,
      "metadata": {
        "colab": {
          "base_uri": "https://localhost:8080/"
        },
        "id": "FFhLTL0yfCnS",
        "outputId": "c8d5c06a-3989-4258-a916-ced44dc6b293"
      },
      "outputs": [
        {
          "output_type": "stream",
          "name": "stdout",
          "text": [
            "\"N\"= 42 é divisível por \"M\"= 7 .\n"
          ]
        }
      ],
      "source": [
        "N = 42\n",
        "M = 7\n",
        "\n",
        "#Seu código\n",
        "try:\n",
        "  if N%M==0:\n",
        "    print('\"N\"=',N,'é divisível por \"M\"=',M,'.')\n",
        "  else:\n",
        "    print('\"N\"=',N,'não é divisível por \"M\"=',M,'.')\n",
        "except:\n",
        "  print('Não é possível realizar divisão por zero(0).')"
      ]
    },
    {
      "cell_type": "markdown",
      "metadata": {
        "id": "xpNdg14sfCnT"
      },
      "source": [
        "### 04 - Números primos\n",
        "> Um número **N** é primo se e somente se é divisível por 1, -1, por **N** e por -**N**.  \n",
        "\n",
        "Escreva um script que verifica se ```N``` é um número primo, verificando se ```N``` é divisível por todos os números de ```1``` a ```N-1```. Você vai precisar usar alguma ferramenta de *loop* que você aprendeu para isto. No final, devolva uma mensagem no output indicando se o número é primo ou não."
      ]
    },
    {
      "cell_type": "code",
      "execution_count": 54,
      "metadata": {
        "colab": {
          "base_uri": "https://localhost:8080/"
        },
        "id": "QyQqkcP6fCnU",
        "outputId": "1baa75e1-a857-4c49-8b91-a8347d115d2b"
      },
      "outputs": [
        {
          "output_type": "stream",
          "name": "stdout",
          "text": [
            "É primo!\n"
          ]
        }
      ],
      "source": [
        "N = 47\n",
        "\n",
        "# seu código abaixo\n",
        "i=1\n",
        "primo=0\n",
        "#print('Divisivel por:')\n",
        "while i <= N:\n",
        "  if N%i==0:\n",
        "    primo+=1\n",
        "    #print(i)\n",
        "  i+=1\n",
        "if primo==2:\n",
        "  print('É primo!')\n",
        "else:\n",
        "  print('Não é primo!')"
      ]
    },
    {
      "cell_type": "markdown",
      "metadata": {
        "id": "8_4t62m_fCnV"
      },
      "source": [
        "### 05 - Desafio\n",
        "O algorítmo do exercício anterior não é o mais eficiente. O que você pode fazer para deixá-lo mais eficiente? Ou seja, executar menos comparações, portanto consumir menos tempo.\n",
        "1. Será que precisamos correr o loop até o final sempre?\n",
        "2. Será que precisamos mesmo verificar **todos** os números?\n",
        "3. Será que precisamos ir até N-1?\n",
        "\n",
        "Essas perguntas levam ao tipo de pensamento voltado a deixar um algoritmo mais eficiente. Veja se você consegue melhorar o seu."
      ]
    },
    {
      "cell_type": "code",
      "execution_count": null,
      "metadata": {
        "colab": {
          "base_uri": "https://localhost:8080/"
        },
        "id": "lREHz1xUfCnW",
        "outputId": "1d65a4ba-9c61-4081-f156-d975d93a9632"
      },
      "outputs": [
        {
          "output_type": "stream",
          "name": "stdout",
          "text": [
            "Não é primo!\n"
          ]
        }
      ],
      "source": [
        "N = 98\n",
        "\n",
        "# seu código aqui\n",
        "i=2\n",
        "primo=0\n",
        "while i <= N-1:\n",
        "  if N%i==0:\n",
        "    primo+=1\n",
        "    if primo>=1:\n",
        "      break\n",
        "  i+=1\n",
        "if primo>=1 or N==1:\n",
        "  print('Não é primo!')\n",
        "else:\n",
        "  print('É primo!')\n",
        "\n",
        "#O loop só corre até o final se for um valor primo,\n",
        "#dessa forma não é necessário verificar todos os números,\n",
        "#indo até ter 1 multiplicador sem ser 1 e ele mesmo"
      ]
    },
    {
      "cell_type": "markdown",
      "metadata": {
        "id": "dtT68JyzfCnX"
      },
      "source": [
        "### 06 - Peso ideal 1\n",
        "O IMC (índice de massa corpórea) é um indicador de saúde mais bem aceito que o peso. Ele é calculado como:\n",
        "\n",
        "$$ IMC = \\dfrac{peso}{altura^2}$$\n",
        "\n",
        "Segundo a OMS, valores *normais* são entre 18.5 e 24.9.\n",
        "\n",
        "Sua tarefa é encontrar o ponto médio dessa faixa."
      ]
    },
    {
      "cell_type": "code",
      "execution_count": 35,
      "metadata": {
        "id": "ooZaqGrtfCnY",
        "outputId": "5afd8dc6-cfb5-43ab-f0a7-88706a9c1c41",
        "colab": {
          "base_uri": "https://localhost:8080/"
        }
      },
      "outputs": [
        {
          "output_type": "execute_result",
          "data": {
            "text/plain": [
              "21.7"
            ]
          },
          "metadata": {},
          "execution_count": 35
        }
      ],
      "source": [
        "imc_ideal = (18.5+24.9)/2\n",
        "round(imc_ideal,2)"
      ]
    },
    {
      "cell_type": "markdown",
      "metadata": {
        "id": "7eeErxpZfCnY"
      },
      "source": [
        "### 07 - Peso ideal 2\n",
        "Recebendo um valor de altura, encontre o peso '*ideal*' dessa pessoa, que fornece o IMC encontrado acima"
      ]
    },
    {
      "cell_type": "code",
      "execution_count": 55,
      "metadata": {
        "id": "mpn27khhfCnZ",
        "outputId": "19d0df23-f356-454e-bd88-7ee5dca8efed",
        "colab": {
          "base_uri": "https://localhost:8080/"
        }
      },
      "outputs": [
        {
          "output_type": "execute_result",
          "data": {
            "text/plain": [
              "62.71"
            ]
          },
          "metadata": {},
          "execution_count": 55
        }
      ],
      "source": [
        "altura = 1.70\n",
        "\n",
        "# Seu código\n",
        "peso_ideal = imc_ideal*(1.70**2)\n",
        "round(peso_ideal,2)"
      ]
    },
    {
      "cell_type": "markdown",
      "metadata": {
        "id": "HUdywCb9fCnZ"
      },
      "source": [
        "### 08 - Peso ideal 3\n",
        "Dada uma lista contendo as alturas de pacientes, crie uma nova lista que contenha o peso '*ideal*' (que fornece o IMC calculado em **Peso ideal 1**) desses pacientes."
      ]
    },
    {
      "cell_type": "code",
      "execution_count": 56,
      "metadata": {
        "id": "YVihVWJyfCna",
        "outputId": "0d2a1c26-b235-4ace-d6fd-fd339fd06bd1",
        "colab": {
          "base_uri": "https://localhost:8080/"
        }
      },
      "outputs": [
        {
          "output_type": "execute_result",
          "data": {
            "text/plain": [
              "[82.51, 91.19, 62.71, 59.08]"
            ]
          },
          "metadata": {},
          "execution_count": 56
        }
      ],
      "source": [
        "lista_alturas = [1.95, 2.05, 1.70, 1.65]\n",
        "\n",
        "lista_peso_ideal = []\n",
        "\n",
        "# seu código\n",
        "for altura in lista_alturas:\n",
        "  p_ideal = imc_ideal*(altura**2)\n",
        "  lista_peso_ideal.append(round(p_ideal,2))\n",
        "lista_peso_ideal"
      ]
    },
    {
      "cell_type": "markdown",
      "metadata": {
        "id": "8-Au5t5-fCna"
      },
      "source": [
        "### 09 - Peso ideal 4\n",
        "Dada uma lista de tuplas - cada elemento da lista é uma tupla contendo altura e peso de um paciente - crie uma nova lista com o IMC desses pacientes."
      ]
    },
    {
      "cell_type": "code",
      "execution_count": 57,
      "metadata": {
        "id": "zHgojv_OfCnb",
        "outputId": "afdd9d85-8397-4f2a-a57b-66c4f8daa8fe",
        "colab": {
          "base_uri": "https://localhost:8080/"
        }
      },
      "outputs": [
        {
          "output_type": "execute_result",
          "data": {
            "text/plain": [
              "[27.78, 27.55, 19.19]"
            ]
          },
          "metadata": {},
          "execution_count": 57
        }
      ],
      "source": [
        "altura_peso = [(1.80, 90), (1.65, 75), (1.91, 70)]\n",
        "\n",
        "imc = []\n",
        "\n",
        "# seu código\n",
        "for valores in altura_peso:\n",
        "    valor = valores[1] / (valores[0])**2\n",
        "    imc.append(round(valor,2))\n",
        "imc"
      ]
    },
    {
      "cell_type": "markdown",
      "metadata": {
        "id": "J4B2tce4fCnc"
      },
      "source": [
        "### 10 - Peso ideal 5\n",
        "Dada uma lista de **listas** - cada elemento da lista é uma **lista** contendo altura e peso de um paciente, adicione mais um elemento à lista de cada paciente contendo o IMC do paciente. Verifique também se é 'baixo', 'normal' ou 'alto' segundo os padrões da OMS em que normal é entre 18.5 e 24.9.\n",
        "\n",
        "Reflexão: por que no problema anterior temos que criar uma nova lista, e não podemos adicionar os dados de cada indivíduo à tupla?"
      ]
    },
    {
      "cell_type": "code",
      "execution_count": 58,
      "metadata": {
        "id": "YGGsZlOefCnc",
        "outputId": "4aa18095-a7c1-4d86-b9c4-48c73aa03cdf",
        "colab": {
          "base_uri": "https://localhost:8080/"
        }
      },
      "outputs": [
        {
          "output_type": "execute_result",
          "data": {
            "text/plain": [
              "[[1.8, 90, 27.78, 'Alto'],\n",
              " [1.65, 75, 27.55, 'Alto'],\n",
              " [1.91, 70, 19.19, 'Normal']]"
            ]
          },
          "metadata": {},
          "execution_count": 58
        }
      ],
      "source": [
        "altura_peso = [[1.80, 90], [1.65, 75], [1.91, 70]]\n",
        "\n",
        "# seu código\n",
        "for valores in altura_peso:\n",
        "    valor = valores[1] / (valores[0])**2\n",
        "    valores.append(round(valor,2))\n",
        "    if valores[2]<18.5:\n",
        "      valores.append('Baixo')\n",
        "    elif valores[2]>24.9:\n",
        "      valores.append('Alto')\n",
        "    else:\n",
        "      valores.append('Normal')\n",
        "altura_peso\n",
        "\n",
        "# Reflexão: No exemplo anterior utilizamos de Tuplas (), uma coleção imutável e\n",
        "# ordenada, sendo inviável a alteração da mesma."
      ]
    }
  ],
  "metadata": {
    "kernelspec": {
      "display_name": "Python 3",
      "language": "python",
      "name": "python3"
    },
    "language_info": {
      "codemirror_mode": {
        "name": "ipython",
        "version": 3
      },
      "file_extension": ".py",
      "mimetype": "text/x-python",
      "name": "python",
      "nbconvert_exporter": "python",
      "pygments_lexer": "ipython3",
      "version": "3.8.5"
    },
    "colab": {
      "provenance": []
    }
  },
  "nbformat": 4,
  "nbformat_minor": 0
}