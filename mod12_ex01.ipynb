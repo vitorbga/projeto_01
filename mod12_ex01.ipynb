{
  "cells": [
    {
      "cell_type": "markdown",
      "metadata": {
        "id": "1x7jfl4qUomf"
      },
      "source": [
        "# Regressão 01 - tarefa 01"
      ]
    },
    {
      "cell_type": "markdown",
      "metadata": {
        "id": "wr_tuFYqUomk"
      },
      "source": [
        "### 1. Explorando a base de gorjetas\n",
        "\n",
        "a. Na aula fizemos uma regressão de ```tip``` explicada por ```net_bill```. Carregue os pacotes e a base, crie as variáveis necessárias como na aula, e reproduza esta regressão.\n",
        "\n",
        "b. Reproduza também o gráfico de dispersão dessas duas variáveis."
      ]
    },
    {
      "cell_type": "code",
      "execution_count": 1,
      "metadata": {
        "id": "SehEcFGGUoml"
      },
      "outputs": [],
      "source": [
        "import pandas as pd\n",
        "import seaborn as sns\n",
        "from seaborn import load_dataset\n",
        "\n",
        "import matplotlib.pyplot as plt\n",
        "\n",
        "from sklearn.metrics import r2_score\n",
        "\n",
        "import numpy as np\n",
        "\n",
        "import statsmodels.formula.api as smf"
      ]
    },
    {
      "cell_type": "code",
      "source": [
        "tips = sns.load_dataset(\"tips\")\n",
        "tips['tip_pct'] = tips['tip'] / (tips['total_bill'] - tips['tip'])\n",
        "tips['net_bill'] = tips['total_bill'] - tips['tip']\n",
        "tips.head()"
      ],
      "metadata": {
        "colab": {
          "base_uri": "https://localhost:8080/",
          "height": 206
        },
        "id": "CIRIAn-jU-Mt",
        "outputId": "9097f9dd-87e9-41fe-bdcc-f6565bf1066d"
      },
      "execution_count": 2,
      "outputs": [
        {
          "output_type": "execute_result",
          "data": {
            "text/plain": [
              "   total_bill   tip     sex smoker  day    time  size   tip_pct  net_bill\n",
              "0       16.99  1.01  Female     No  Sun  Dinner     2  0.063204     15.98\n",
              "1       10.34  1.66    Male     No  Sun  Dinner     3  0.191244      8.68\n",
              "2       21.01  3.50    Male     No  Sun  Dinner     3  0.199886     17.51\n",
              "3       23.68  3.31    Male     No  Sun  Dinner     2  0.162494     20.37\n",
              "4       24.59  3.61  Female     No  Sun  Dinner     4  0.172069     20.98"
            ],
            "text/html": [
              "\n",
              "  <div id=\"df-7017c3df-6bd5-4346-8cde-ac0a0b62bda8\" class=\"colab-df-container\">\n",
              "    <div>\n",
              "<style scoped>\n",
              "    .dataframe tbody tr th:only-of-type {\n",
              "        vertical-align: middle;\n",
              "    }\n",
              "\n",
              "    .dataframe tbody tr th {\n",
              "        vertical-align: top;\n",
              "    }\n",
              "\n",
              "    .dataframe thead th {\n",
              "        text-align: right;\n",
              "    }\n",
              "</style>\n",
              "<table border=\"1\" class=\"dataframe\">\n",
              "  <thead>\n",
              "    <tr style=\"text-align: right;\">\n",
              "      <th></th>\n",
              "      <th>total_bill</th>\n",
              "      <th>tip</th>\n",
              "      <th>sex</th>\n",
              "      <th>smoker</th>\n",
              "      <th>day</th>\n",
              "      <th>time</th>\n",
              "      <th>size</th>\n",
              "      <th>tip_pct</th>\n",
              "      <th>net_bill</th>\n",
              "    </tr>\n",
              "  </thead>\n",
              "  <tbody>\n",
              "    <tr>\n",
              "      <th>0</th>\n",
              "      <td>16.99</td>\n",
              "      <td>1.01</td>\n",
              "      <td>Female</td>\n",
              "      <td>No</td>\n",
              "      <td>Sun</td>\n",
              "      <td>Dinner</td>\n",
              "      <td>2</td>\n",
              "      <td>0.063204</td>\n",
              "      <td>15.98</td>\n",
              "    </tr>\n",
              "    <tr>\n",
              "      <th>1</th>\n",
              "      <td>10.34</td>\n",
              "      <td>1.66</td>\n",
              "      <td>Male</td>\n",
              "      <td>No</td>\n",
              "      <td>Sun</td>\n",
              "      <td>Dinner</td>\n",
              "      <td>3</td>\n",
              "      <td>0.191244</td>\n",
              "      <td>8.68</td>\n",
              "    </tr>\n",
              "    <tr>\n",
              "      <th>2</th>\n",
              "      <td>21.01</td>\n",
              "      <td>3.50</td>\n",
              "      <td>Male</td>\n",
              "      <td>No</td>\n",
              "      <td>Sun</td>\n",
              "      <td>Dinner</td>\n",
              "      <td>3</td>\n",
              "      <td>0.199886</td>\n",
              "      <td>17.51</td>\n",
              "    </tr>\n",
              "    <tr>\n",
              "      <th>3</th>\n",
              "      <td>23.68</td>\n",
              "      <td>3.31</td>\n",
              "      <td>Male</td>\n",
              "      <td>No</td>\n",
              "      <td>Sun</td>\n",
              "      <td>Dinner</td>\n",
              "      <td>2</td>\n",
              "      <td>0.162494</td>\n",
              "      <td>20.37</td>\n",
              "    </tr>\n",
              "    <tr>\n",
              "      <th>4</th>\n",
              "      <td>24.59</td>\n",
              "      <td>3.61</td>\n",
              "      <td>Female</td>\n",
              "      <td>No</td>\n",
              "      <td>Sun</td>\n",
              "      <td>Dinner</td>\n",
              "      <td>4</td>\n",
              "      <td>0.172069</td>\n",
              "      <td>20.98</td>\n",
              "    </tr>\n",
              "  </tbody>\n",
              "</table>\n",
              "</div>\n",
              "    <div class=\"colab-df-buttons\">\n",
              "\n",
              "  <div class=\"colab-df-container\">\n",
              "    <button class=\"colab-df-convert\" onclick=\"convertToInteractive('df-7017c3df-6bd5-4346-8cde-ac0a0b62bda8')\"\n",
              "            title=\"Convert this dataframe to an interactive table.\"\n",
              "            style=\"display:none;\">\n",
              "\n",
              "  <svg xmlns=\"http://www.w3.org/2000/svg\" height=\"24px\" viewBox=\"0 -960 960 960\">\n",
              "    <path d=\"M120-120v-720h720v720H120Zm60-500h600v-160H180v160Zm220 220h160v-160H400v160Zm0 220h160v-160H400v160ZM180-400h160v-160H180v160Zm440 0h160v-160H620v160ZM180-180h160v-160H180v160Zm440 0h160v-160H620v160Z\"/>\n",
              "  </svg>\n",
              "    </button>\n",
              "\n",
              "  <style>\n",
              "    .colab-df-container {\n",
              "      display:flex;\n",
              "      gap: 12px;\n",
              "    }\n",
              "\n",
              "    .colab-df-convert {\n",
              "      background-color: #E8F0FE;\n",
              "      border: none;\n",
              "      border-radius: 50%;\n",
              "      cursor: pointer;\n",
              "      display: none;\n",
              "      fill: #1967D2;\n",
              "      height: 32px;\n",
              "      padding: 0 0 0 0;\n",
              "      width: 32px;\n",
              "    }\n",
              "\n",
              "    .colab-df-convert:hover {\n",
              "      background-color: #E2EBFA;\n",
              "      box-shadow: 0px 1px 2px rgba(60, 64, 67, 0.3), 0px 1px 3px 1px rgba(60, 64, 67, 0.15);\n",
              "      fill: #174EA6;\n",
              "    }\n",
              "\n",
              "    .colab-df-buttons div {\n",
              "      margin-bottom: 4px;\n",
              "    }\n",
              "\n",
              "    [theme=dark] .colab-df-convert {\n",
              "      background-color: #3B4455;\n",
              "      fill: #D2E3FC;\n",
              "    }\n",
              "\n",
              "    [theme=dark] .colab-df-convert:hover {\n",
              "      background-color: #434B5C;\n",
              "      box-shadow: 0px 1px 3px 1px rgba(0, 0, 0, 0.15);\n",
              "      filter: drop-shadow(0px 1px 2px rgba(0, 0, 0, 0.3));\n",
              "      fill: #FFFFFF;\n",
              "    }\n",
              "  </style>\n",
              "\n",
              "    <script>\n",
              "      const buttonEl =\n",
              "        document.querySelector('#df-7017c3df-6bd5-4346-8cde-ac0a0b62bda8 button.colab-df-convert');\n",
              "      buttonEl.style.display =\n",
              "        google.colab.kernel.accessAllowed ? 'block' : 'none';\n",
              "\n",
              "      async function convertToInteractive(key) {\n",
              "        const element = document.querySelector('#df-7017c3df-6bd5-4346-8cde-ac0a0b62bda8');\n",
              "        const dataTable =\n",
              "          await google.colab.kernel.invokeFunction('convertToInteractive',\n",
              "                                                    [key], {});\n",
              "        if (!dataTable) return;\n",
              "\n",
              "        const docLinkHtml = 'Like what you see? Visit the ' +\n",
              "          '<a target=\"_blank\" href=https://colab.research.google.com/notebooks/data_table.ipynb>data table notebook</a>'\n",
              "          + ' to learn more about interactive tables.';\n",
              "        element.innerHTML = '';\n",
              "        dataTable['output_type'] = 'display_data';\n",
              "        await google.colab.output.renderOutput(dataTable, element);\n",
              "        const docLink = document.createElement('div');\n",
              "        docLink.innerHTML = docLinkHtml;\n",
              "        element.appendChild(docLink);\n",
              "      }\n",
              "    </script>\n",
              "  </div>\n",
              "\n",
              "\n",
              "<div id=\"df-22c6562c-f199-429a-9b00-21a563f57e72\">\n",
              "  <button class=\"colab-df-quickchart\" onclick=\"quickchart('df-22c6562c-f199-429a-9b00-21a563f57e72')\"\n",
              "            title=\"Suggest charts\"\n",
              "            style=\"display:none;\">\n",
              "\n",
              "<svg xmlns=\"http://www.w3.org/2000/svg\" height=\"24px\"viewBox=\"0 0 24 24\"\n",
              "     width=\"24px\">\n",
              "    <g>\n",
              "        <path d=\"M19 3H5c-1.1 0-2 .9-2 2v14c0 1.1.9 2 2 2h14c1.1 0 2-.9 2-2V5c0-1.1-.9-2-2-2zM9 17H7v-7h2v7zm4 0h-2V7h2v10zm4 0h-2v-4h2v4z\"/>\n",
              "    </g>\n",
              "</svg>\n",
              "  </button>\n",
              "\n",
              "<style>\n",
              "  .colab-df-quickchart {\n",
              "      --bg-color: #E8F0FE;\n",
              "      --fill-color: #1967D2;\n",
              "      --hover-bg-color: #E2EBFA;\n",
              "      --hover-fill-color: #174EA6;\n",
              "      --disabled-fill-color: #AAA;\n",
              "      --disabled-bg-color: #DDD;\n",
              "  }\n",
              "\n",
              "  [theme=dark] .colab-df-quickchart {\n",
              "      --bg-color: #3B4455;\n",
              "      --fill-color: #D2E3FC;\n",
              "      --hover-bg-color: #434B5C;\n",
              "      --hover-fill-color: #FFFFFF;\n",
              "      --disabled-bg-color: #3B4455;\n",
              "      --disabled-fill-color: #666;\n",
              "  }\n",
              "\n",
              "  .colab-df-quickchart {\n",
              "    background-color: var(--bg-color);\n",
              "    border: none;\n",
              "    border-radius: 50%;\n",
              "    cursor: pointer;\n",
              "    display: none;\n",
              "    fill: var(--fill-color);\n",
              "    height: 32px;\n",
              "    padding: 0;\n",
              "    width: 32px;\n",
              "  }\n",
              "\n",
              "  .colab-df-quickchart:hover {\n",
              "    background-color: var(--hover-bg-color);\n",
              "    box-shadow: 0 1px 2px rgba(60, 64, 67, 0.3), 0 1px 3px 1px rgba(60, 64, 67, 0.15);\n",
              "    fill: var(--button-hover-fill-color);\n",
              "  }\n",
              "\n",
              "  .colab-df-quickchart-complete:disabled,\n",
              "  .colab-df-quickchart-complete:disabled:hover {\n",
              "    background-color: var(--disabled-bg-color);\n",
              "    fill: var(--disabled-fill-color);\n",
              "    box-shadow: none;\n",
              "  }\n",
              "\n",
              "  .colab-df-spinner {\n",
              "    border: 2px solid var(--fill-color);\n",
              "    border-color: transparent;\n",
              "    border-bottom-color: var(--fill-color);\n",
              "    animation:\n",
              "      spin 1s steps(1) infinite;\n",
              "  }\n",
              "\n",
              "  @keyframes spin {\n",
              "    0% {\n",
              "      border-color: transparent;\n",
              "      border-bottom-color: var(--fill-color);\n",
              "      border-left-color: var(--fill-color);\n",
              "    }\n",
              "    20% {\n",
              "      border-color: transparent;\n",
              "      border-left-color: var(--fill-color);\n",
              "      border-top-color: var(--fill-color);\n",
              "    }\n",
              "    30% {\n",
              "      border-color: transparent;\n",
              "      border-left-color: var(--fill-color);\n",
              "      border-top-color: var(--fill-color);\n",
              "      border-right-color: var(--fill-color);\n",
              "    }\n",
              "    40% {\n",
              "      border-color: transparent;\n",
              "      border-right-color: var(--fill-color);\n",
              "      border-top-color: var(--fill-color);\n",
              "    }\n",
              "    60% {\n",
              "      border-color: transparent;\n",
              "      border-right-color: var(--fill-color);\n",
              "    }\n",
              "    80% {\n",
              "      border-color: transparent;\n",
              "      border-right-color: var(--fill-color);\n",
              "      border-bottom-color: var(--fill-color);\n",
              "    }\n",
              "    90% {\n",
              "      border-color: transparent;\n",
              "      border-bottom-color: var(--fill-color);\n",
              "    }\n",
              "  }\n",
              "</style>\n",
              "\n",
              "  <script>\n",
              "    async function quickchart(key) {\n",
              "      const quickchartButtonEl =\n",
              "        document.querySelector('#' + key + ' button');\n",
              "      quickchartButtonEl.disabled = true;  // To prevent multiple clicks.\n",
              "      quickchartButtonEl.classList.add('colab-df-spinner');\n",
              "      try {\n",
              "        const charts = await google.colab.kernel.invokeFunction(\n",
              "            'suggestCharts', [key], {});\n",
              "      } catch (error) {\n",
              "        console.error('Error during call to suggestCharts:', error);\n",
              "      }\n",
              "      quickchartButtonEl.classList.remove('colab-df-spinner');\n",
              "      quickchartButtonEl.classList.add('colab-df-quickchart-complete');\n",
              "    }\n",
              "    (() => {\n",
              "      let quickchartButtonEl =\n",
              "        document.querySelector('#df-22c6562c-f199-429a-9b00-21a563f57e72 button');\n",
              "      quickchartButtonEl.style.display =\n",
              "        google.colab.kernel.accessAllowed ? 'block' : 'none';\n",
              "    })();\n",
              "  </script>\n",
              "</div>\n",
              "\n",
              "    </div>\n",
              "  </div>\n"
            ],
            "application/vnd.google.colaboratory.intrinsic+json": {
              "type": "dataframe",
              "variable_name": "tips",
              "summary": "{\n  \"name\": \"tips\",\n  \"rows\": 244,\n  \"fields\": [\n    {\n      \"column\": \"total_bill\",\n      \"properties\": {\n        \"dtype\": \"number\",\n        \"std\": 8.902411954856856,\n        \"min\": 3.07,\n        \"max\": 50.81,\n        \"num_unique_values\": 229,\n        \"samples\": [\n          22.12,\n          20.23,\n          14.78\n        ],\n        \"semantic_type\": \"\",\n        \"description\": \"\"\n      }\n    },\n    {\n      \"column\": \"tip\",\n      \"properties\": {\n        \"dtype\": \"number\",\n        \"std\": 1.3836381890011822,\n        \"min\": 1.0,\n        \"max\": 10.0,\n        \"num_unique_values\": 123,\n        \"samples\": [\n          3.35,\n          1.5,\n          6.73\n        ],\n        \"semantic_type\": \"\",\n        \"description\": \"\"\n      }\n    },\n    {\n      \"column\": \"sex\",\n      \"properties\": {\n        \"dtype\": \"category\",\n        \"num_unique_values\": 2,\n        \"samples\": [\n          \"Male\",\n          \"Female\"\n        ],\n        \"semantic_type\": \"\",\n        \"description\": \"\"\n      }\n    },\n    {\n      \"column\": \"smoker\",\n      \"properties\": {\n        \"dtype\": \"category\",\n        \"num_unique_values\": 2,\n        \"samples\": [\n          \"Yes\",\n          \"No\"\n        ],\n        \"semantic_type\": \"\",\n        \"description\": \"\"\n      }\n    },\n    {\n      \"column\": \"day\",\n      \"properties\": {\n        \"dtype\": \"category\",\n        \"num_unique_values\": 4,\n        \"samples\": [\n          \"Sat\",\n          \"Fri\"\n        ],\n        \"semantic_type\": \"\",\n        \"description\": \"\"\n      }\n    },\n    {\n      \"column\": \"time\",\n      \"properties\": {\n        \"dtype\": \"category\",\n        \"num_unique_values\": 2,\n        \"samples\": [\n          \"Lunch\",\n          \"Dinner\"\n        ],\n        \"semantic_type\": \"\",\n        \"description\": \"\"\n      }\n    },\n    {\n      \"column\": \"size\",\n      \"properties\": {\n        \"dtype\": \"number\",\n        \"std\": 0,\n        \"min\": 1,\n        \"max\": 6,\n        \"num_unique_values\": 6,\n        \"samples\": [\n          2,\n          3\n        ],\n        \"semantic_type\": \"\",\n        \"description\": \"\"\n      }\n    },\n    {\n      \"column\": \"tip_pct\",\n      \"properties\": {\n        \"dtype\": \"number\",\n        \"std\": 0.16338470690460055,\n        \"min\": 0.03695514845230575,\n        \"max\": 2.452380952380953,\n        \"num_unique_values\": 241,\n        \"samples\": [\n          0.19110576923076925,\n          0.29542097488921715\n        ],\n        \"semantic_type\": \"\",\n        \"description\": \"\"\n      }\n    },\n    {\n      \"column\": \"net_bill\",\n      \"properties\": {\n        \"dtype\": \"number\",\n        \"std\": 8.032458527349583,\n        \"min\": 2.07,\n        \"max\": 43.17,\n        \"num_unique_values\": 234,\n        \"samples\": [\n          14.07,\n          11.8\n        ],\n        \"semantic_type\": \"\",\n        \"description\": \"\"\n      }\n    }\n  ]\n}"
            }
          },
          "metadata": {},
          "execution_count": 2
        }
      ]
    },
    {
      "cell_type": "code",
      "source": [
        "# Regressão\n",
        "reg = smf.ols('tip ~ net_bill', data = tips).fit()\n",
        "reg.summary()"
      ],
      "metadata": {
        "colab": {
          "base_uri": "https://localhost:8080/",
          "height": 452
        },
        "id": "qh9HRq6bVLV_",
        "outputId": "27e811c7-39cc-4b6f-9a1f-c5a107f9fe4c"
      },
      "execution_count": 3,
      "outputs": [
        {
          "output_type": "execute_result",
          "data": {
            "text/plain": [
              "<class 'statsmodels.iolib.summary.Summary'>\n",
              "\"\"\"\n",
              "                            OLS Regression Results                            \n",
              "==============================================================================\n",
              "Dep. Variable:                    tip   R-squared:                       0.333\n",
              "Model:                            OLS   Adj. R-squared:                  0.330\n",
              "Method:                 Least Squares   F-statistic:                     120.6\n",
              "Date:                Wed, 28 Feb 2024   Prob (F-statistic):           5.02e-23\n",
              "Time:                        02:13:29   Log-Likelihood:                -375.63\n",
              "No. Observations:                 244   AIC:                             755.3\n",
              "Df Residuals:                     242   BIC:                             762.3\n",
              "Df Model:                           1                                         \n",
              "Covariance Type:            nonrobust                                         \n",
              "==============================================================================\n",
              "                 coef    std err          t      P>|t|      [0.025      0.975]\n",
              "------------------------------------------------------------------------------\n",
              "Intercept      1.3307      0.168      7.907      0.000       0.999       1.662\n",
              "net_bill       0.0993      0.009     10.980      0.000       0.082       0.117\n",
              "==============================================================================\n",
              "Omnibus:                       33.873   Durbin-Watson:                   2.123\n",
              "Prob(Omnibus):                  0.000   Jarque-Bera (JB):               59.942\n",
              "Skew:                           0.754   Prob(JB):                     9.63e-14\n",
              "Kurtosis:                       4.903   Cond. No.                         43.3\n",
              "==============================================================================\n",
              "\n",
              "Notes:\n",
              "[1] Standard Errors assume that the covariance matrix of the errors is correctly specified.\n",
              "\"\"\""
            ],
            "text/html": [
              "<table class=\"simpletable\">\n",
              "<caption>OLS Regression Results</caption>\n",
              "<tr>\n",
              "  <th>Dep. Variable:</th>           <td>tip</td>       <th>  R-squared:         </th> <td>   0.333</td>\n",
              "</tr>\n",
              "<tr>\n",
              "  <th>Model:</th>                   <td>OLS</td>       <th>  Adj. R-squared:    </th> <td>   0.330</td>\n",
              "</tr>\n",
              "<tr>\n",
              "  <th>Method:</th>             <td>Least Squares</td>  <th>  F-statistic:       </th> <td>   120.6</td>\n",
              "</tr>\n",
              "<tr>\n",
              "  <th>Date:</th>             <td>Wed, 28 Feb 2024</td> <th>  Prob (F-statistic):</th> <td>5.02e-23</td>\n",
              "</tr>\n",
              "<tr>\n",
              "  <th>Time:</th>                 <td>02:13:29</td>     <th>  Log-Likelihood:    </th> <td> -375.63</td>\n",
              "</tr>\n",
              "<tr>\n",
              "  <th>No. Observations:</th>      <td>   244</td>      <th>  AIC:               </th> <td>   755.3</td>\n",
              "</tr>\n",
              "<tr>\n",
              "  <th>Df Residuals:</th>          <td>   242</td>      <th>  BIC:               </th> <td>   762.3</td>\n",
              "</tr>\n",
              "<tr>\n",
              "  <th>Df Model:</th>              <td>     1</td>      <th>                     </th>     <td> </td>   \n",
              "</tr>\n",
              "<tr>\n",
              "  <th>Covariance Type:</th>      <td>nonrobust</td>    <th>                     </th>     <td> </td>   \n",
              "</tr>\n",
              "</table>\n",
              "<table class=\"simpletable\">\n",
              "<tr>\n",
              "      <td></td>         <th>coef</th>     <th>std err</th>      <th>t</th>      <th>P>|t|</th>  <th>[0.025</th>    <th>0.975]</th>  \n",
              "</tr>\n",
              "<tr>\n",
              "  <th>Intercept</th> <td>    1.3307</td> <td>    0.168</td> <td>    7.907</td> <td> 0.000</td> <td>    0.999</td> <td>    1.662</td>\n",
              "</tr>\n",
              "<tr>\n",
              "  <th>net_bill</th>  <td>    0.0993</td> <td>    0.009</td> <td>   10.980</td> <td> 0.000</td> <td>    0.082</td> <td>    0.117</td>\n",
              "</tr>\n",
              "</table>\n",
              "<table class=\"simpletable\">\n",
              "<tr>\n",
              "  <th>Omnibus:</th>       <td>33.873</td> <th>  Durbin-Watson:     </th> <td>   2.123</td>\n",
              "</tr>\n",
              "<tr>\n",
              "  <th>Prob(Omnibus):</th> <td> 0.000</td> <th>  Jarque-Bera (JB):  </th> <td>  59.942</td>\n",
              "</tr>\n",
              "<tr>\n",
              "  <th>Skew:</th>          <td> 0.754</td> <th>  Prob(JB):          </th> <td>9.63e-14</td>\n",
              "</tr>\n",
              "<tr>\n",
              "  <th>Kurtosis:</th>      <td> 4.903</td> <th>  Cond. No.          </th> <td>    43.3</td>\n",
              "</tr>\n",
              "</table><br/><br/>Notes:<br/>[1] Standard Errors assume that the covariance matrix of the errors is correctly specified."
            ],
            "text/latex": "\\begin{center}\n\\begin{tabular}{lclc}\n\\toprule\n\\textbf{Dep. Variable:}    &       tip        & \\textbf{  R-squared:         } &     0.333   \\\\\n\\textbf{Model:}            &       OLS        & \\textbf{  Adj. R-squared:    } &     0.330   \\\\\n\\textbf{Method:}           &  Least Squares   & \\textbf{  F-statistic:       } &     120.6   \\\\\n\\textbf{Date:}             & Wed, 28 Feb 2024 & \\textbf{  Prob (F-statistic):} &  5.02e-23   \\\\\n\\textbf{Time:}             &     02:13:29     & \\textbf{  Log-Likelihood:    } &   -375.63   \\\\\n\\textbf{No. Observations:} &         244      & \\textbf{  AIC:               } &     755.3   \\\\\n\\textbf{Df Residuals:}     &         242      & \\textbf{  BIC:               } &     762.3   \\\\\n\\textbf{Df Model:}         &           1      & \\textbf{                     } &             \\\\\n\\textbf{Covariance Type:}  &    nonrobust     & \\textbf{                     } &             \\\\\n\\bottomrule\n\\end{tabular}\n\\begin{tabular}{lcccccc}\n                   & \\textbf{coef} & \\textbf{std err} & \\textbf{t} & \\textbf{P$> |$t$|$} & \\textbf{[0.025} & \\textbf{0.975]}  \\\\\n\\midrule\n\\textbf{Intercept} &       1.3307  &        0.168     &     7.907  &         0.000        &        0.999    &        1.662     \\\\\n\\textbf{net\\_bill} &       0.0993  &        0.009     &    10.980  &         0.000        &        0.082    &        0.117     \\\\\n\\bottomrule\n\\end{tabular}\n\\begin{tabular}{lclc}\n\\textbf{Omnibus:}       & 33.873 & \\textbf{  Durbin-Watson:     } &    2.123  \\\\\n\\textbf{Prob(Omnibus):} &  0.000 & \\textbf{  Jarque-Bera (JB):  } &   59.942  \\\\\n\\textbf{Skew:}          &  0.754 & \\textbf{  Prob(JB):          } & 9.63e-14  \\\\\n\\textbf{Kurtosis:}      &  4.903 & \\textbf{  Cond. No.          } &     43.3  \\\\\n\\bottomrule\n\\end{tabular}\n%\\caption{OLS Regression Results}\n\\end{center}\n\nNotes: \\newline\n [1] Standard Errors assume that the covariance matrix of the errors is correctly specified."
          },
          "metadata": {},
          "execution_count": 3
        }
      ]
    },
    {
      "cell_type": "code",
      "source": [
        "# Gráfico de dispersão\n",
        "sns.regplot(y = 'tip', x = 'net_bill', data = tips[tips['tip_pct']<.5])\n",
        "\n",
        "# Gerando dados para a linha dos 10%\n",
        "x = np.linspace(0,tips['net_bill'].max(),100)\n",
        "y = .1*x\n",
        "\n",
        "# Plotando a linha dos 10%\n",
        "plt.plot(x, y, '-r', label='linha dos 10%')\n",
        "\n",
        "# Opções estéticas para explicitar o (0,0) no gráfico\n",
        "plt.xlim(left = 0)\n",
        "plt.ylim(bottom = 0)"
      ],
      "metadata": {
        "colab": {
          "base_uri": "https://localhost:8080/",
          "height": 467
        },
        "id": "kOswpXvrVOkM",
        "outputId": "cf1cc34d-5a0a-4816-9efd-4c45cb6ee6cd"
      },
      "execution_count": 4,
      "outputs": [
        {
          "output_type": "execute_result",
          "data": {
            "text/plain": [
              "(0.0, 10.5)"
            ]
          },
          "metadata": {},
          "execution_count": 4
        },
        {
          "output_type": "display_data",
          "data": {
            "text/plain": [
              "<Figure size 640x480 with 1 Axes>"
            ],
            "image/png": "[encoded data removed]"
          },
          "metadata": {}
        }
      ]
    },
    {
      "cell_type": "markdown",
      "metadata": {
        "id": "4rjidwmtUomm"
      },
      "source": [
        "### 2. Mudança de perspectiva\n",
        "\n",
        "Agora ajuste um modelo de regressão de ```tip_pct``` por ```net_bill```. Construa o gráfico de dispersão correspondente."
      ]
    },
    {
      "cell_type": "code",
      "execution_count": 5,
      "metadata": {
        "colab": {
          "base_uri": "https://localhost:8080/",
          "height": 452
        },
        "id": "w71dM1o_Uomm",
        "outputId": "1b763bc1-2772-4970-ea2b-c75bc53f00b5"
      },
      "outputs": [
        {
          "output_type": "execute_result",
          "data": {
            "text/plain": [
              "<class 'statsmodels.iolib.summary.Summary'>\n",
              "\"\"\"\n",
              "                            OLS Regression Results                            \n",
              "==============================================================================\n",
              "Dep. Variable:                tip_pct   R-squared:                       0.091\n",
              "Model:                            OLS   Adj. R-squared:                  0.088\n",
              "Method:                 Least Squares   F-statistic:                     24.31\n",
              "Date:                Wed, 28 Feb 2024   Prob (F-statistic):           1.52e-06\n",
              "Time:                        02:13:29   Log-Likelihood:                 108.00\n",
              "No. Observations:                 244   AIC:                            -212.0\n",
              "Df Residuals:                     242   BIC:                            -205.0\n",
              "Df Model:                           1                                         \n",
              "Covariance Type:            nonrobust                                         \n",
              "==============================================================================\n",
              "                 coef    std err          t      P>|t|      [0.025      0.975]\n",
              "------------------------------------------------------------------------------\n",
              "Intercept      0.3053      0.023     13.166      0.000       0.260       0.351\n",
              "net_bill      -0.0061      0.001     -4.931      0.000      -0.009      -0.004\n",
              "==============================================================================\n",
              "Omnibus:                      468.674   Durbin-Watson:                   1.987\n",
              "Prob(Omnibus):                  0.000   Jarque-Bera (JB):           234437.604\n",
              "Skew:                          11.104   Prob(JB):                         0.00\n",
              "Kurtosis:                     153.221   Cond. No.                         43.3\n",
              "==============================================================================\n",
              "\n",
              "Notes:\n",
              "[1] Standard Errors assume that the covariance matrix of the errors is correctly specified.\n",
              "\"\"\""
            ],
            "text/html": [
              "<table class=\"simpletable\">\n",
              "<caption>OLS Regression Results</caption>\n",
              "<tr>\n",
              "  <th>Dep. Variable:</th>         <td>tip_pct</td>     <th>  R-squared:         </th> <td>   0.091</td>\n",
              "</tr>\n",
              "<tr>\n",
              "  <th>Model:</th>                   <td>OLS</td>       <th>  Adj. R-squared:    </th> <td>   0.088</td>\n",
              "</tr>\n",
              "<tr>\n",
              "  <th>Method:</th>             <td>Least Squares</td>  <th>  F-statistic:       </th> <td>   24.31</td>\n",
              "</tr>\n",
              "<tr>\n",
              "  <th>Date:</th>             <td>Wed, 28 Feb 2024</td> <th>  Prob (F-statistic):</th> <td>1.52e-06</td>\n",
              "</tr>\n",
              "<tr>\n",
              "  <th>Time:</th>                 <td>02:13:29</td>     <th>  Log-Likelihood:    </th> <td>  108.00</td>\n",
              "</tr>\n",
              "<tr>\n",
              "  <th>No. Observations:</th>      <td>   244</td>      <th>  AIC:               </th> <td>  -212.0</td>\n",
              "</tr>\n",
              "<tr>\n",
              "  <th>Df Residuals:</th>          <td>   242</td>      <th>  BIC:               </th> <td>  -205.0</td>\n",
              "</tr>\n",
              "<tr>\n",
              "  <th>Df Model:</th>              <td>     1</td>      <th>                     </th>     <td> </td>   \n",
              "</tr>\n",
              "<tr>\n",
              "  <th>Covariance Type:</th>      <td>nonrobust</td>    <th>                     </th>     <td> </td>   \n",
              "</tr>\n",
              "</table>\n",
              "<table class=\"simpletable\">\n",
              "<tr>\n",
              "      <td></td>         <th>coef</th>     <th>std err</th>      <th>t</th>      <th>P>|t|</th>  <th>[0.025</th>    <th>0.975]</th>  \n",
              "</tr>\n",
              "<tr>\n",
              "  <th>Intercept</th> <td>    0.3053</td> <td>    0.023</td> <td>   13.166</td> <td> 0.000</td> <td>    0.260</td> <td>    0.351</td>\n",
              "</tr>\n",
              "<tr>\n",
              "  <th>net_bill</th>  <td>   -0.0061</td> <td>    0.001</td> <td>   -4.931</td> <td> 0.000</td> <td>   -0.009</td> <td>   -0.004</td>\n",
              "</tr>\n",
              "</table>\n",
              "<table class=\"simpletable\">\n",
              "<tr>\n",
              "  <th>Omnibus:</th>       <td>468.674</td> <th>  Durbin-Watson:     </th>  <td>   1.987</td> \n",
              "</tr>\n",
              "<tr>\n",
              "  <th>Prob(Omnibus):</th> <td> 0.000</td>  <th>  Jarque-Bera (JB):  </th> <td>234437.604</td>\n",
              "</tr>\n",
              "<tr>\n",
              "  <th>Skew:</th>          <td>11.104</td>  <th>  Prob(JB):          </th>  <td>    0.00</td> \n",
              "</tr>\n",
              "<tr>\n",
              "  <th>Kurtosis:</th>      <td>153.221</td> <th>  Cond. No.          </th>  <td>    43.3</td> \n",
              "</tr>\n",
              "</table><br/><br/>Notes:<br/>[1] Standard Errors assume that the covariance matrix of the errors is correctly specified."
            ],
            "text/latex": "\\begin{center}\n\\begin{tabular}{lclc}\n\\toprule\n\\textbf{Dep. Variable:}    &     tip\\_pct     & \\textbf{  R-squared:         } &     0.091   \\\\\n\\textbf{Model:}            &       OLS        & \\textbf{  Adj. R-squared:    } &     0.088   \\\\\n\\textbf{Method:}           &  Least Squares   & \\textbf{  F-statistic:       } &     24.31   \\\\\n\\textbf{Date:}             & Wed, 28 Feb 2024 & \\textbf{  Prob (F-statistic):} &  1.52e-06   \\\\\n\\textbf{Time:}             &     02:13:29     & \\textbf{  Log-Likelihood:    } &    108.00   \\\\\n\\textbf{No. Observations:} &         244      & \\textbf{  AIC:               } &    -212.0   \\\\\n\\textbf{Df Residuals:}     &         242      & \\textbf{  BIC:               } &    -205.0   \\\\\n\\textbf{Df Model:}         &           1      & \\textbf{                     } &             \\\\\n\\textbf{Covariance Type:}  &    nonrobust     & \\textbf{                     } &             \\\\\n\\bottomrule\n\\end{tabular}\n\\begin{tabular}{lcccccc}\n                   & \\textbf{coef} & \\textbf{std err} & \\textbf{t} & \\textbf{P$> |$t$|$} & \\textbf{[0.025} & \\textbf{0.975]}  \\\\\n\\midrule\n\\textbf{Intercept} &       0.3053  &        0.023     &    13.166  &         0.000        &        0.260    &        0.351     \\\\\n\\textbf{net\\_bill} &      -0.0061  &        0.001     &    -4.931  &         0.000        &       -0.009    &       -0.004     \\\\\n\\bottomrule\n\\end{tabular}\n\\begin{tabular}{lclc}\n\\textbf{Omnibus:}       & 468.674 & \\textbf{  Durbin-Watson:     } &     1.987   \\\\\n\\textbf{Prob(Omnibus):} &   0.000 & \\textbf{  Jarque-Bera (JB):  } & 234437.604  \\\\\n\\textbf{Skew:}          &  11.104 & \\textbf{  Prob(JB):          } &      0.00   \\\\\n\\textbf{Kurtosis:}      & 153.221 & \\textbf{  Cond. No.          } &      43.3   \\\\\n\\bottomrule\n\\end{tabular}\n%\\caption{OLS Regression Results}\n\\end{center}\n\nNotes: \\newline\n [1] Standard Errors assume that the covariance matrix of the errors is correctly specified."
          },
          "metadata": {},
          "execution_count": 5
        }
      ],
      "source": [
        "# Regressão por tip_pct\n",
        "reg = smf.ols('tip_pct ~ net_bill', data = tips).fit()\n",
        "reg.summary()"
      ]
    },
    {
      "cell_type": "code",
      "source": [
        "# Gráfico de dispersão por tip_pct\n",
        "sns.regplot(y = 'tip_pct', x = 'net_bill', data = tips[tips['tip_pct']<.5])\n",
        "\n",
        "# Gerando dados para a linha dos 10%\n",
        "x = np.linspace(0,tips['net_bill'].max(),100)\n",
        "y = .1*x\n",
        "\n",
        "# Plotando a linha dos 10%\n",
        "plt.plot(x, y, '-r', label='linha dos 10%')\n",
        "\n",
        "# Opções estéticas para explicitar o (0,0) no gráfico\n",
        "plt.xlim(left = 0)\n",
        "plt.ylim(bottom = 0)"
      ],
      "metadata": {
        "colab": {
          "base_uri": "https://localhost:8080/",
          "height": 467
        },
        "id": "3PC5a2nfWK0x",
        "outputId": "1a08233c-3fb7-4265-f18a-7f8a138ac229"
      },
      "execution_count": 6,
      "outputs": [
        {
          "output_type": "execute_result",
          "data": {
            "text/plain": [
              "(0.0, 4.53285)"
            ]
          },
          "metadata": {},
          "execution_count": 6
        },
        {
          "output_type": "display_data",
          "data": {
            "text/plain": [
              "<Figure size 640x480 with 1 Axes>"
            ],
            "image/png": "[encoded data removed]"
          },
          "metadata": {}
        }
      ]
    },
    {
      "cell_type": "markdown",
      "metadata": {
        "id": "mOSmEPH5Uomn"
      },
      "source": [
        "### 3. Comente\n",
        "\n",
        "Compare os dois gráficos e comente (de forma objetiva e suscinta) a relação entre eles e a diferença do ajuste. Podemos comparar diretamente os $R^2$s?"
      ]
    },
    {
      "cell_type": "markdown",
      "source": [
        "![imagem_2024-02-27_223618286.png](data:image/png;base64,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) e ![image.png](data:image/png;base64,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)"
      ],
      "metadata": {
        "id": "4nS7ZZgcWuwM"
      }
    },
    {
      "cell_type": "markdown",
      "source": [
        "Ao comparar os gráficos vemos a linha de regressão da 'tip' subir junto com a vermelha, referencia dos 10%, enquanto a de 'tip_pct' diminui ao longo do trajeto sendo contraria a vermelha. Deste modo, quanto maior a conta, maior o valor da gorjeta, porém menor a porcentage da gorgeta."
      ],
      "metadata": {
        "id": "lWXnxlCZW9lF"
      }
    },
    {
      "cell_type": "code",
      "source": [
        "tips[['tip','tip_pct','net_bill']].corr()"
      ],
      "metadata": {
        "colab": {
          "base_uri": "https://localhost:8080/",
          "height": 143
        },
        "id": "_eVBdZ_wcnFh",
        "outputId": "9a3d8cbf-2610-4e84-fc98-d392af8400a1"
      },
      "execution_count": 7,
      "outputs": [
        {
          "output_type": "execute_result",
          "data": {
            "text/plain": [
              "               tip   tip_pct  net_bill\n",
              "tip       1.000000  0.241572  0.576663\n",
              "tip_pct   0.241572  1.000000 -0.302144\n",
              "net_bill  0.576663 -0.302144  1.000000"
            ],
            "text/html": [
              "\n",
              "  <div id=\"df-fff3134c-5a6d-48b8-9f59-89a81396348b\" class=\"colab-df-container\">\n",
              "    <div>\n",
              "<style scoped>\n",
              "    .dataframe tbody tr th:only-of-type {\n",
              "        vertical-align: middle;\n",
              "    }\n",
              "\n",
              "    .dataframe tbody tr th {\n",
              "        vertical-align: top;\n",
              "    }\n",
              "\n",
              "    .dataframe thead th {\n",
              "        text-align: right;\n",
              "    }\n",
              "</style>\n",
              "<table border=\"1\" class=\"dataframe\">\n",
              "  <thead>\n",
              "    <tr style=\"text-align: right;\">\n",
              "      <th></th>\n",
              "      <th>tip</th>\n",
              "      <th>tip_pct</th>\n",
              "      <th>net_bill</th>\n",
              "    </tr>\n",
              "  </thead>\n",
              "  <tbody>\n",
              "    <tr>\n",
              "      <th>tip</th>\n",
              "      <td>1.000000</td>\n",
              "      <td>0.241572</td>\n",
              "      <td>0.576663</td>\n",
              "    </tr>\n",
              "    <tr>\n",
              "      <th>tip_pct</th>\n",
              "      <td>0.241572</td>\n",
              "      <td>1.000000</td>\n",
              "      <td>-0.302144</td>\n",
              "    </tr>\n",
              "    <tr>\n",
              "      <th>net_bill</th>\n",
              "      <td>0.576663</td>\n",
              "      <td>-0.302144</td>\n",
              "      <td>1.000000</td>\n",
              "    </tr>\n",
              "  </tbody>\n",
              "</table>\n",
              "</div>\n",
              "    <div class=\"colab-df-buttons\">\n",
              "\n",
              "  <div class=\"colab-df-container\">\n",
              "    <button class=\"colab-df-convert\" onclick=\"convertToInteractive('df-fff3134c-5a6d-48b8-9f59-89a81396348b')\"\n",
              "            title=\"Convert this dataframe to an interactive table.\"\n",
              "            style=\"display:none;\">\n",
              "\n",
              "  <svg xmlns=\"http://www.w3.org/2000/svg\" height=\"24px\" viewBox=\"0 -960 960 960\">\n",
              "    <path d=\"M120-120v-720h720v720H120Zm60-500h600v-160H180v160Zm220 220h160v-160H400v160Zm0 220h160v-160H400v160ZM180-400h160v-160H180v160Zm440 0h160v-160H620v160ZM180-180h160v-160H180v160Zm440 0h160v-160H620v160Z\"/>\n",
              "  </svg>\n",
              "    </button>\n",
              "\n",
              "  <style>\n",
              "    .colab-df-container {\n",
              "      display:flex;\n",
              "      gap: 12px;\n",
              "    }\n",
              "\n",
              "    .colab-df-convert {\n",
              "      background-color: #E8F0FE;\n",
              "      border: none;\n",
              "      border-radius: 50%;\n",
              "      cursor: pointer;\n",
              "      display: none;\n",
              "      fill: #1967D2;\n",
              "      height: 32px;\n",
              "      padding: 0 0 0 0;\n",
              "      width: 32px;\n",
              "    }\n",
              "\n",
              "    .colab-df-convert:hover {\n",
              "      background-color: #E2EBFA;\n",
              "      box-shadow: 0px 1px 2px rgba(60, 64, 67, 0.3), 0px 1px 3px 1px rgba(60, 64, 67, 0.15);\n",
              "      fill: #174EA6;\n",
              "    }\n",
              "\n",
              "    .colab-df-buttons div {\n",
              "      margin-bottom: 4px;\n",
              "    }\n",
              "\n",
              "    [theme=dark] .colab-df-convert {\n",
              "      background-color: #3B4455;\n",
              "      fill: #D2E3FC;\n",
              "    }\n",
              "\n",
              "    [theme=dark] .colab-df-convert:hover {\n",
              "      background-color: #434B5C;\n",
              "      box-shadow: 0px 1px 3px 1px rgba(0, 0, 0, 0.15);\n",
              "      filter: drop-shadow(0px 1px 2px rgba(0, 0, 0, 0.3));\n",
              "      fill: #FFFFFF;\n",
              "    }\n",
              "  </style>\n",
              "\n",
              "    <script>\n",
              "      const buttonEl =\n",
              "        document.querySelector('#df-fff3134c-5a6d-48b8-9f59-89a81396348b button.colab-df-convert');\n",
              "      buttonEl.style.display =\n",
              "        google.colab.kernel.accessAllowed ? 'block' : 'none';\n",
              "\n",
              "      async function convertToInteractive(key) {\n",
              "        const element = document.querySelector('#df-fff3134c-5a6d-48b8-9f59-89a81396348b');\n",
              "        const dataTable =\n",
              "          await google.colab.kernel.invokeFunction('convertToInteractive',\n",
              "                                                    [key], {});\n",
              "        if (!dataTable) return;\n",
              "\n",
              "        const docLinkHtml = 'Like what you see? Visit the ' +\n",
              "          '<a target=\"_blank\" href=https://colab.research.google.com/notebooks/data_table.ipynb>data table notebook</a>'\n",
              "          + ' to learn more about interactive tables.';\n",
              "        element.innerHTML = '';\n",
              "        dataTable['output_type'] = 'display_data';\n",
              "        await google.colab.output.renderOutput(dataTable, element);\n",
              "        const docLink = document.createElement('div');\n",
              "        docLink.innerHTML = docLinkHtml;\n",
              "        element.appendChild(docLink);\n",
              "      }\n",
              "    </script>\n",
              "  </div>\n",
              "\n",
              "\n",
              "<div id=\"df-d580a31a-01f2-4e5d-87c6-81587f558130\">\n",
              "  <button class=\"colab-df-quickchart\" onclick=\"quickchart('df-d580a31a-01f2-4e5d-87c6-81587f558130')\"\n",
              "            title=\"Suggest charts\"\n",
              "            style=\"display:none;\">\n",
              "\n",
              "<svg xmlns=\"http://www.w3.org/2000/svg\" height=\"24px\"viewBox=\"0 0 24 24\"\n",
              "     width=\"24px\">\n",
              "    <g>\n",
              "        <path d=\"M19 3H5c-1.1 0-2 .9-2 2v14c0 1.1.9 2 2 2h14c1.1 0 2-.9 2-2V5c0-1.1-.9-2-2-2zM9 17H7v-7h2v7zm4 0h-2V7h2v10zm4 0h-2v-4h2v4z\"/>\n",
              "    </g>\n",
              "</svg>\n",
              "  </button>\n",
              "\n",
              "<style>\n",
              "  .colab-df-quickchart {\n",
              "      --bg-color: #E8F0FE;\n",
              "      --fill-color: #1967D2;\n",
              "      --hover-bg-color: #E2EBFA;\n",
              "      --hover-fill-color: #174EA6;\n",
              "      --disabled-fill-color: #AAA;\n",
              "      --disabled-bg-color: #DDD;\n",
              "  }\n",
              "\n",
              "  [theme=dark] .colab-df-quickchart {\n",
              "      --bg-color: #3B4455;\n",
              "      --fill-color: #D2E3FC;\n",
              "      --hover-bg-color: #434B5C;\n",
              "      --hover-fill-color: #FFFFFF;\n",
              "      --disabled-bg-color: #3B4455;\n",
              "      --disabled-fill-color: #666;\n",
              "  }\n",
              "\n",
              "  .colab-df-quickchart {\n",
              "    background-color: var(--bg-color);\n",
              "    border: none;\n",
              "    border-radius: 50%;\n",
              "    cursor: pointer;\n",
              "    display: none;\n",
              "    fill: var(--fill-color);\n",
              "    height: 32px;\n",
              "    padding: 0;\n",
              "    width: 32px;\n",
              "  }\n",
              "\n",
              "  .colab-df-quickchart:hover {\n",
              "    background-color: var(--hover-bg-color);\n",
              "    box-shadow: 0 1px 2px rgba(60, 64, 67, 0.3), 0 1px 3px 1px rgba(60, 64, 67, 0.15);\n",
              "    fill: var(--button-hover-fill-color);\n",
              "  }\n",
              "\n",
              "  .colab-df-quickchart-complete:disabled,\n",
              "  .colab-df-quickchart-complete:disabled:hover {\n",
              "    background-color: var(--disabled-bg-color);\n",
              "    fill: var(--disabled-fill-color);\n",
              "    box-shadow: none;\n",
              "  }\n",
              "\n",
              "  .colab-df-spinner {\n",
              "    border: 2px solid var(--fill-color);\n",
              "    border-color: transparent;\n",
              "    border-bottom-color: var(--fill-color);\n",
              "    animation:\n",
              "      spin 1s steps(1) infinite;\n",
              "  }\n",
              "\n",
              "  @keyframes spin {\n",
              "    0% {\n",
              "      border-color: transparent;\n",
              "      border-bottom-color: var(--fill-color);\n",
              "      border-left-color: var(--fill-color);\n",
              "    }\n",
              "    20% {\n",
              "      border-color: transparent;\n",
              "      border-left-color: var(--fill-color);\n",
              "      border-top-color: var(--fill-color);\n",
              "    }\n",
              "    30% {\n",
              "      border-color: transparent;\n",
              "      border-left-color: var(--fill-color);\n",
              "      border-top-color: var(--fill-color);\n",
              "      border-right-color: var(--fill-color);\n",
              "    }\n",
              "    40% {\n",
              "      border-color: transparent;\n",
              "      border-right-color: var(--fill-color);\n",
              "      border-top-color: var(--fill-color);\n",
              "    }\n",
              "    60% {\n",
              "      border-color: transparent;\n",
              "      border-right-color: var(--fill-color);\n",
              "    }\n",
              "    80% {\n",
              "      border-color: transparent;\n",
              "      border-right-color: var(--fill-color);\n",
              "      border-bottom-color: var(--fill-color);\n",
              "    }\n",
              "    90% {\n",
              "      border-color: transparent;\n",
              "      border-bottom-color: var(--fill-color);\n",
              "    }\n",
              "  }\n",
              "</style>\n",
              "\n",
              "  <script>\n",
              "    async function quickchart(key) {\n",
              "      const quickchartButtonEl =\n",
              "        document.querySelector('#' + key + ' button');\n",
              "      quickchartButtonEl.disabled = true;  // To prevent multiple clicks.\n",
              "      quickchartButtonEl.classList.add('colab-df-spinner');\n",
              "      try {\n",
              "        const charts = await google.colab.kernel.invokeFunction(\n",
              "            'suggestCharts', [key], {});\n",
              "      } catch (error) {\n",
              "        console.error('Error during call to suggestCharts:', error);\n",
              "      }\n",
              "      quickchartButtonEl.classList.remove('colab-df-spinner');\n",
              "      quickchartButtonEl.classList.add('colab-df-quickchart-complete');\n",
              "    }\n",
              "    (() => {\n",
              "      let quickchartButtonEl =\n",
              "        document.querySelector('#df-d580a31a-01f2-4e5d-87c6-81587f558130 button');\n",
              "      quickchartButtonEl.style.display =\n",
              "        google.colab.kernel.accessAllowed ? 'block' : 'none';\n",
              "    })();\n",
              "  </script>\n",
              "</div>\n",
              "\n",
              "    </div>\n",
              "  </div>\n"
            ],
            "application/vnd.google.colaboratory.intrinsic+json": {
              "type": "dataframe",
              "summary": "{\n  \"name\": \"tips[['tip','tip_pct','net_bill']]\",\n  \"rows\": 3,\n  \"fields\": [\n    {\n      \"column\": \"tip\",\n      \"properties\": {\n        \"dtype\": \"number\",\n        \"std\": 0.38006877569628383,\n        \"min\": 0.24157177163990817,\n        \"max\": 1.0,\n        \"num_unique_values\": 3,\n        \"samples\": [\n          1.0,\n          0.24157177163990817,\n          0.5766634471096383\n        ],\n        \"semantic_type\": \"\",\n        \"description\": \"\"\n      }\n    },\n    {\n      \"column\": \"tip_pct\",\n      \"properties\": {\n        \"dtype\": \"number\",\n        \"std\": 0.6540155851037917,\n        \"min\": -0.30214375586238684,\n        \"max\": 1.0,\n        \"num_unique_values\": 3,\n        \"samples\": [\n          0.24157177163990817,\n          1.0,\n          -0.30214375586238684\n        ],\n        \"semantic_type\": \"\",\n        \"description\": \"\"\n      }\n    },\n    {\n      \"column\": \"net_bill\",\n      \"properties\": {\n        \"dtype\": \"number\",\n        \"std\": 0.6642156148345219,\n        \"min\": -0.30214375586238684,\n        \"max\": 1.0,\n        \"num_unique_values\": 3,\n        \"samples\": [\n          0.5766634471096383,\n          -0.30214375586238684,\n          1.0\n        ],\n        \"semantic_type\": \"\",\n        \"description\": \"\"\n      }\n    }\n  ]\n}"
            }
          },
          "metadata": {},
          "execution_count": 7
        }
      ]
    },
    {
      "cell_type": "markdown",
      "source": [
        "Vendo a correlação, podemos reforçar que 'tip' está crescente e 'tip_pct' decrescente."
      ],
      "metadata": {
        "id": "FKJhC9p8d8u0"
      }
    },
    {
      "cell_type": "markdown",
      "metadata": {
        "id": "4YR1dkldUomp"
      },
      "source": [
        "### 4. Ajuste do modelo em outra escala\n",
        "\n",
        "Com o modelo no item 3, obtenha a preditiva do valor da gorjeta:\n",
        "  1. obtenha o valor predito ```pred``` para ```tip_pct``` (dica, veja o atributo ```reg.fittedvalues```)\n",
        "  2. obtenha o valor predito para ```tip``` como ```tip_pct * net_bill```\n",
        "  3. calcule o $R^2$ do modelo para ```tip```\n",
        "  4. compare esse $R^2$ com o do item 1"
      ]
    },
    {
      "cell_type": "code",
      "source": [
        "reg.predict(tips)"
      ],
      "metadata": {
        "colab": {
          "base_uri": "https://localhost:8080/"
        },
        "id": "56YMdg4kekf1",
        "outputId": "42c034b1-b262-4deb-b681-6a16b054db4c"
      },
      "execution_count": 8,
      "outputs": [
        {
          "output_type": "execute_result",
          "data": {
            "text/plain": [
              "0      0.207087\n",
              "1      0.251951\n",
              "2      0.197684\n",
              "3      0.180107\n",
              "4      0.176358\n",
              "         ...   \n",
              "239    0.163268\n",
              "240    0.150546\n",
              "241    0.178264\n",
              "242    0.206534\n",
              "243    0.208316\n",
              "Length: 244, dtype: float64"
            ]
          },
          "metadata": {},
          "execution_count": 8
        }
      ]
    },
    {
      "cell_type": "code",
      "execution_count": 9,
      "metadata": {
        "colab": {
          "base_uri": "https://localhost:8080/"
        },
        "id": "XN4Sa-bFUomq",
        "outputId": "85db0f31-000b-4418-b75e-e5c03e1f02e7"
      },
      "outputs": [
        {
          "output_type": "execute_result",
          "data": {
            "text/plain": [
              "0      0.207087\n",
              "1      0.251951\n",
              "2      0.197684\n",
              "3      0.180107\n",
              "4      0.176358\n",
              "         ...   \n",
              "239    0.163268\n",
              "240    0.150546\n",
              "241    0.178264\n",
              "242    0.206534\n",
              "243    0.208316\n",
              "Length: 244, dtype: float64"
            ]
          },
          "metadata": {},
          "execution_count": 9
        }
      ],
      "source": [
        "# 1\n",
        "pred_tip_pct = reg.fittedvalues\n",
        "pred_tip_pct"
      ]
    },
    {
      "cell_type": "code",
      "source": [
        "# 2\n",
        "pred_tip = reg.predict(tips) * tips['net_bill'].values\n",
        "pred_tip"
      ],
      "metadata": {
        "colab": {
          "base_uri": "https://localhost:8080/"
        },
        "id": "WcvLl7Crayj1",
        "outputId": "935afac4-0490-47b7-f9c0-614c37e6c1f9"
      },
      "execution_count": 10,
      "outputs": [
        {
          "output_type": "execute_result",
          "data": {
            "text/plain": [
              "0      3.309254\n",
              "1      2.186938\n",
              "2      3.461450\n",
              "3      3.668785\n",
              "4      3.699998\n",
              "         ...   \n",
              "239    3.773120\n",
              "240    3.790751\n",
              "241    3.684707\n",
              "242    3.319003\n",
              "243    3.287232\n",
              "Length: 244, dtype: float64"
            ]
          },
          "metadata": {},
          "execution_count": 10
        }
      ]
    },
    {
      "cell_type": "code",
      "source": [
        "# 3\n",
        "r2 = r2_score(tips['tip'].values, pred_tip)\n",
        "r2"
      ],
      "metadata": {
        "colab": {
          "base_uri": "https://localhost:8080/"
        },
        "id": "fAiAEYpNbE1e",
        "outputId": "f3062877-2c57-43de-add5-7e8b0f6f911e"
      },
      "execution_count": 11,
      "outputs": [
        {
          "output_type": "execute_result",
          "data": {
            "text/plain": [
              "0.10889974845461325"
            ]
          },
          "metadata": {},
          "execution_count": 11
        }
      ]
    },
    {
      "cell_type": "code",
      "source": [
        "# 4\n",
        "r2 = r2_score(pred_tip, pred_tip_pct)\n",
        "r2"
      ],
      "metadata": {
        "colab": {
          "base_uri": "https://localhost:8080/"
        },
        "id": "n7Q6h3PEdLZG",
        "outputId": "09129728-b8da-4f4f-c296-b9dc0fd1ad08"
      },
      "execution_count": 12,
      "outputs": [
        {
          "output_type": "execute_result",
          "data": {
            "text/plain": [
              "-19.58898713548971"
            ]
          },
          "metadata": {},
          "execution_count": 12
        }
      ]
    }
  ],
  "metadata": {
    "kernelspec": {
      "display_name": "Python 3",
      "language": "python",
      "name": "python3"
    },
    "language_info": {
      "codemirror_mode": {
        "name": "ipython",
        "version": 3
      },
      "file_extension": ".py",
      "mimetype": "text/x-python",
      "name": "python",
      "nbconvert_exporter": "python",
      "pygments_lexer": "ipython3",
      "version": "3.8.5"
    },
    "colab": {
      "provenance": []
    }
  },
  "nbformat": 4,
  "nbformat_minor": 0
}