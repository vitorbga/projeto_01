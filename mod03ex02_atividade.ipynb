{
  "cells": [
    {
      "cell_type": "code",
      "execution_count": 1,
      "metadata": {
        "id": "fFhFteHV695k"
      },
      "outputs": [],
      "source": [
        "import numpy as np"
      ]
    },
    {
      "cell_type": "markdown",
      "metadata": {
        "id": "YLWEzg3N695m"
      },
      "source": [
        "### 1) Alturas  \n",
        "i. No trecho de código abaixo, crie um ndarray chamado ```altura_em_centimetros``` transformando a lista ```lista_de_alturas``` em um ndarray do numpy com a função ```np.array()```  \n",
        "ii. Crie um outro objeto ```altura_em_metros```, com os valores de ```altura_em_centimetros``` convertidos para metros."
      ]
    },
    {
      "cell_type": "code",
      "execution_count": 2,
      "metadata": {
        "id": "tx6DbJk7695o",
        "colab": {
          "base_uri": "https://localhost:8080/"
        },
        "outputId": "f0527cd6-4f43-41ab-cc35-4eaab79c5314"
      },
      "outputs": [
        {
          "output_type": "execute_result",
          "data": {
            "text/plain": [
              "[170, 175, 180, 185]"
            ]
          },
          "metadata": {},
          "execution_count": 2
        }
      ],
      "source": [
        "lista_de_centimetros = list(range(170, 190, 5))\n",
        "lista_de_centimetros"
      ]
    },
    {
      "cell_type": "code",
      "execution_count": 3,
      "metadata": {
        "id": "-tXC4lyT695o",
        "colab": {
          "base_uri": "https://localhost:8080/"
        },
        "outputId": "ea0567e1-853c-458d-ff8a-ffd9ec3350f3"
      },
      "outputs": [
        {
          "output_type": "execute_result",
          "data": {
            "text/plain": [
              "array([170, 175, 180, 185])"
            ]
          },
          "metadata": {},
          "execution_count": 3
        }
      ],
      "source": [
        "altura_em_centimetros = np.array(lista_de_centimetros)\n",
        "altura_em_centimetros"
      ]
    },
    {
      "cell_type": "code",
      "execution_count": 4,
      "metadata": {
        "id": "zFDQt9_K695p",
        "colab": {
          "base_uri": "https://localhost:8080/"
        },
        "outputId": "4a1642e7-af54-42fc-8c90-6f57f157fdbd"
      },
      "outputs": [
        {
          "output_type": "execute_result",
          "data": {
            "text/plain": [
              "array([1.7 , 1.75, 1.8 , 1.85])"
            ]
          },
          "metadata": {},
          "execution_count": 4
        }
      ],
      "source": [
        "altura_em_metros = altura_em_centimetros * 0.01\n",
        "altura_em_metros"
      ]
    },
    {
      "cell_type": "markdown",
      "metadata": {
        "id": "hlsDzubv695p"
      },
      "source": [
        "### 2) IMC  \n",
        "i. Considere que pesos em Kg dessas pessoas, na mesma ortem, estão na lista pesos ```lista_pesos = [70, 75, 80, 85]```. Crie um **ndarray** chamado ```pesos``` com a função ```np.array()``` que contenha esses valores.  \n",
        "ii. Utilizando o objeto que contém as alturas em metros e esse objeto que contém os respectivos pesos em quilos, calcule o IMC desses indivíduos utilizando a aritmética de arrays e guarde os resultados em um objeto chamado ```imc```."
      ]
    },
    {
      "cell_type": "code",
      "execution_count": 5,
      "metadata": {
        "id": "YL87C0It695p",
        "outputId": "3ff4bff9-4f54-4160-d716-9fc2ea26f920",
        "colab": {
          "base_uri": "https://localhost:8080/"
        }
      },
      "outputs": [
        {
          "output_type": "execute_result",
          "data": {
            "text/plain": [
              "array([70, 75, 80, 85])"
            ]
          },
          "metadata": {},
          "execution_count": 5
        }
      ],
      "source": [
        "lista_pesos = [70, 75, 80, 85]\n",
        "lista_pesos\n",
        "# seu código aqui\n",
        "pesos = np.array(lista_pesos)\n",
        "pesos"
      ]
    },
    {
      "cell_type": "code",
      "execution_count": 6,
      "metadata": {
        "id": "WgZtY2Ox695q",
        "colab": {
          "base_uri": "https://localhost:8080/"
        },
        "outputId": "851b8d66-e0ab-4475-ea33-707da5bd3c94"
      },
      "outputs": [
        {
          "output_type": "execute_result",
          "data": {
            "text/plain": [
              "array([24.22, 24.49, 24.69, 24.84])"
            ]
          },
          "metadata": {},
          "execution_count": 6
        }
      ],
      "source": [
        "# calcule o IMC dessas pessoas\n",
        "imc = pesos/(altura_em_metros**2)\n",
        "np.round(imc,2)\n",
        "#24.22145329, 24.48979592, 24.69135802, 24.83564646"
      ]
    },
    {
      "cell_type": "markdown",
      "metadata": {
        "id": "k1JIBxZb695r"
      },
      "source": [
        "### 3) Endividamento\n",
        "\n",
        "Cálculos de novas variáveis como endividamento total e comprometimento de renda são essenciais para a construção de modelos financeiros em ciência de dados. Áreas não financeiras terão cálculos semelhantes também. Vamos praticar:\n",
        "\n",
        "Considere que o seguinte ndarray contém os dados de 4 pessoas, total a ser pago a empréstimos mensalmente e renda familiar:\n",
        "\n",
        "| custo fixo | dívida financeira | renda familiar |\n",
        "|:----:|:----:|:---|\n",
        "| 3000  | 1000 | 6000 |\n",
        "| 2500  | 2500 | 5500 |\n",
        "| 1000  | 3000 | 7000 |\n",
        "| 10000 | 5000 | 16000 |\n",
        "\n",
        "i. Transforme a lista de listas ```dados_financeiros``` no ndarray ```nd_financeiros```.\n",
        "> ``` dados_financeiros[[3000, 2500, 1000, 10000],[1000, 2500, 3000, 5000],[6000, 5500, 7000, 16000]] ```\n",
        "\n",
        "ii. Utilize o método ```.transpose ``` e certifique-se de que esse ndarray tenha uma linha por indivíduo e uma coluna por informação. Utilizando a indexação do numpy, imprima no output a segunda linha do array, depois a segunda coluna.\n",
        "\n",
        "iii. Pratique aritmética com nearrays e calcule o endividamento total como:\n",
        "$$endividamento\\hspace{.2cm}total = \\frac{custo \\hspace{.2cm}fixo + dívida\\hspace{.2cm}financeira}{renda\\hspace{.2cm}familiar}$$\n",
        "Guarde os resultados em uma variável chamada ```endividamento_total``` e verifique os resultados imprimindo o conteúdo dessa variável no output.\n",
        "\n",
        "iv. Considere que há um erro de digitação que precisa ser corrigido: 3o indivíduo na verdade não possui renda familiar de R\\\\$7.000,00, mas sim R\\\\$ 10.000,00. Corrija esse valor e refaça os cálculos."
      ]
    },
    {
      "cell_type": "code",
      "execution_count": 7,
      "metadata": {
        "id": "k17jw6kT695r",
        "colab": {
          "base_uri": "https://localhost:8080/"
        },
        "outputId": "6509fe94-c7cc-4c44-e861-baa84885ea4e"
      },
      "outputs": [
        {
          "output_type": "execute_result",
          "data": {
            "text/plain": [
              "array([[ 3000,  2500,  1000, 10000],\n",
              "       [ 1000,  2500,  3000,  5000],\n",
              "       [ 6000,  5500,  7000, 16000]])"
            ]
          },
          "metadata": {},
          "execution_count": 7
        }
      ],
      "source": [
        "# lista dados_financeiros\n",
        "dados_financeiros = [[3000, 2500, 1000, 10000],[1000, 2500, 3000, 5000],[6000, 5500, 7000, 16000]]\n",
        "dados_financeiros\n",
        "#i) transforme essa lista em um ndarray\n",
        "nd_financeiros = np.array(dados_financeiros)\n",
        "nd_financeiros"
      ]
    },
    {
      "cell_type": "code",
      "execution_count": 8,
      "metadata": {
        "id": "ecRsPjml695r",
        "colab": {
          "base_uri": "https://localhost:8080/"
        },
        "outputId": "95d88ed9-5a8c-46cc-948f-32fc48be5d24"
      },
      "outputs": [
        {
          "output_type": "execute_result",
          "data": {
            "text/plain": [
              "array([[ 3000,  1000,  6000],\n",
              "       [ 2500,  2500,  5500],\n",
              "       [ 1000,  3000,  7000],\n",
              "       [10000,  5000, 16000]])"
            ]
          },
          "metadata": {},
          "execution_count": 8
        }
      ],
      "source": [
        "# ii)\n",
        "nd_financeiros = nd_financeiros.transpose() # salvando como individuo X informacao\n",
        "nd_financeiros"
      ]
    },
    {
      "cell_type": "code",
      "source": [
        "nd_financeiros[1,:] # mostrando segunda linha"
      ],
      "metadata": {
        "colab": {
          "base_uri": "https://localhost:8080/"
        },
        "id": "5MizSgUb3TDH",
        "outputId": "f902a57c-cdd5-467e-d6f9-22afc6b53ca3"
      },
      "execution_count": 9,
      "outputs": [
        {
          "output_type": "execute_result",
          "data": {
            "text/plain": [
              "array([2500, 2500, 5500])"
            ]
          },
          "metadata": {},
          "execution_count": 9
        }
      ]
    },
    {
      "cell_type": "code",
      "source": [
        "nd_financeiros[:,1] # mostrando segunda coluna"
      ],
      "metadata": {
        "colab": {
          "base_uri": "https://localhost:8080/"
        },
        "id": "HhLChXUg3TXK",
        "outputId": "681e8d66-13b4-4012-c04f-ddbf4b5d9da3"
      },
      "execution_count": 10,
      "outputs": [
        {
          "output_type": "execute_result",
          "data": {
            "text/plain": [
              "array([1000, 2500, 3000, 5000])"
            ]
          },
          "metadata": {},
          "execution_count": 10
        }
      ]
    },
    {
      "cell_type": "code",
      "execution_count": 11,
      "metadata": {
        "id": "RgMG-t9-695s",
        "colab": {
          "base_uri": "https://localhost:8080/"
        },
        "outputId": "b76505c3-f56a-48ca-e160-97904ca3a999"
      },
      "outputs": [
        {
          "output_type": "execute_result",
          "data": {
            "text/plain": [
              "array([0.67, 0.91, 0.57, 0.94])"
            ]
          },
          "metadata": {},
          "execution_count": 11
        }
      ],
      "source": [
        "# iii) Calcule o endividamento total\n",
        "endividamento_total = lambda col1, col2, col3: (col1+col2)/col3\n",
        "np.round(endividamento_total(nd_financeiros[:,0],nd_financeiros[:,1],nd_financeiros[:,2]),2)\n",
        "# 0.66666667, 0.90909091, 0.57142857, 0.9375"
      ]
    },
    {
      "cell_type": "code",
      "execution_count": 12,
      "metadata": {
        "id": "FxaSHRgy695t",
        "colab": {
          "base_uri": "https://localhost:8080/"
        },
        "outputId": "1140e089-665c-49ce-dabc-0f13d0d7941f"
      },
      "outputs": [
        {
          "output_type": "execute_result",
          "data": {
            "text/plain": [
              "10000"
            ]
          },
          "metadata": {},
          "execution_count": 12
        }
      ],
      "source": [
        "# iv) corrigindo um valor específico\n",
        "nd_financeiros[2,2] = 10000 # corrigindo o valor da coluna\n",
        "nd_financeiros[2,2]"
      ]
    },
    {
      "cell_type": "code",
      "execution_count": 13,
      "metadata": {
        "id": "OYxfd00O695t",
        "colab": {
          "base_uri": "https://localhost:8080/"
        },
        "outputId": "e4a1d3bf-6a84-4682-aa75-4b73689699b6"
      },
      "outputs": [
        {
          "output_type": "execute_result",
          "data": {
            "text/plain": [
              "array([0.67, 0.91, 0.4 , 0.94])"
            ]
          },
          "metadata": {},
          "execution_count": 13
        }
      ],
      "source": [
        "# recalculando\n",
        "np.round(endividamento_total(nd_financeiros[:,0],nd_financeiros[:,1],nd_financeiros[:,2]),2)\n",
        "#0.66666667, 0.90909091, 0.4       , 0.9375"
      ]
    },
    {
      "cell_type": "markdown",
      "metadata": {
        "id": "RghMgSOX695t"
      },
      "source": [
        "### 4) É muito comum precisarmos identificar valores especiais e darmos tratamento a eles quer seja alterando-os quer seja descartando-os.\n",
        "\n",
        "O trecho de código abaixo gera um ndarray com números pseudo aleatórios. Considere que para efeitos do estudo que virá, devemos desconsiderar valores iguais a zero. Sendo assim:\n",
        "\n",
        "i) crie um objeto ```bool_zero``` que traga uma sequencia de booleanos do mesmo tamanho que o objeto poi, e que vale ```True``` quando o valor de ```poi``` é zero, e ```False``` caso contrário.\n",
        "\n",
        "ii) Conte quantos valores zero existem. Lembre-se de que no final das contas, ```True``` vale 1 para o Python, e ```False``` vale zero, então uma boa dica seria usar a função ```sum()```.\n",
        "\n",
        "iii) Utilize a indexação booleana que você aprendeu para criar uma variável ```poi_nao_zero``` que aponta para os elementos de ```poi``` diferentes de zero. Dica: você vai pode inverter os elementos do objeto que criou em *ii)* ou escrever a comparação adequada."
      ]
    },
    {
      "cell_type": "code",
      "execution_count": 14,
      "metadata": {
        "id": "Y6JUhNiT695t",
        "outputId": "184a2b19-f86b-45c7-9539-2e470b0ac777",
        "colab": {
          "base_uri": "https://localhost:8080/"
        }
      },
      "outputs": [
        {
          "output_type": "execute_result",
          "data": {
            "text/plain": [
              "array([3, 3, 6, 2, 4, 5, 4, 4, 2, 0, 3, 3, 2, 8, 2, 3, 3, 3, 0, 4, 4, 2,\n",
              "       6, 6, 0, 3, 4, 3, 5, 2, 1, 3, 2, 2, 3, 2, 4, 4, 5, 7, 3, 5, 3, 3,\n",
              "       2, 2, 3, 6, 2, 2, 4, 3, 5, 2, 5, 3, 0, 2, 1, 1, 4, 4, 4, 6, 2, 4,\n",
              "       1, 2, 5, 5, 3, 4, 1, 4, 1, 1, 7, 1, 2, 1, 3, 7, 0, 4, 4, 0, 6, 1,\n",
              "       3, 4, 2, 5, 4, 5, 5, 3, 4, 6, 8, 2])"
            ]
          },
          "metadata": {},
          "execution_count": 14
        }
      ],
      "source": [
        "# objeto poi - obs: o comando np.random.seed(1234) garante que o mesmo resultado será gerado sempre\n",
        "np.random.seed(1234)\n",
        "poi = np.random.poisson(3, 100)\n",
        "poi"
      ]
    },
    {
      "cell_type": "code",
      "execution_count": 15,
      "metadata": {
        "id": "dWElD2MJ695u",
        "colab": {
          "base_uri": "https://localhost:8080/"
        },
        "outputId": "82c43eb8-5e68-4966-deb7-8cf10ac31389"
      },
      "outputs": [
        {
          "output_type": "execute_result",
          "data": {
            "text/plain": [
              "array([False, False, False, False, False, False, False, False, False,\n",
              "        True, False, False, False, False, False, False, False, False,\n",
              "        True, False, False, False, False, False,  True, False, False,\n",
              "       False, False, False, False, False, False, False, False, False,\n",
              "       False, False, False, False, False, False, False, False, False,\n",
              "       False, False, False, False, False, False, False, False, False,\n",
              "       False, False,  True, False, False, False, False, False, False,\n",
              "       False, False, False, False, False, False, False, False, False,\n",
              "       False, False, False, False, False, False, False, False, False,\n",
              "       False,  True, False, False,  True, False, False, False, False,\n",
              "       False, False, False, False, False, False, False, False, False,\n",
              "       False])"
            ]
          },
          "metadata": {},
          "execution_count": 15
        }
      ],
      "source": [
        "# i) crie o objeto bool_zero através do operador ==\n",
        "bool_zero = (poi == 0)\n",
        "bool_zero"
      ]
    },
    {
      "cell_type": "code",
      "execution_count": 16,
      "metadata": {
        "id": "hr-knXzs695u",
        "colab": {
          "base_uri": "https://localhost:8080/"
        },
        "outputId": "93c48fb1-7738-42c6-ed16-6ce97ae809db"
      },
      "outputs": [
        {
          "output_type": "execute_result",
          "data": {
            "text/plain": [
              "6"
            ]
          },
          "metadata": {},
          "execution_count": 16
        }
      ],
      "source": [
        "# ii) Conte a quantidade de zeros (ou some os elementos de bool_zero)\n",
        "np.sum(bool_zero)"
      ]
    },
    {
      "cell_type": "code",
      "execution_count": 17,
      "metadata": {
        "id": "5s3DqCup695u",
        "colab": {
          "base_uri": "https://localhost:8080/"
        },
        "outputId": "d1fd503b-49cf-4f28-de38-8d71d47405fa"
      },
      "outputs": [
        {
          "output_type": "execute_result",
          "data": {
            "text/plain": [
              "array([ True,  True,  True,  True,  True,  True,  True,  True,  True,\n",
              "       False,  True,  True,  True,  True,  True,  True,  True,  True,\n",
              "       False,  True,  True,  True,  True,  True, False,  True,  True,\n",
              "        True,  True,  True,  True,  True,  True,  True,  True,  True,\n",
              "        True,  True,  True,  True,  True,  True,  True,  True,  True,\n",
              "        True,  True,  True,  True,  True,  True,  True,  True,  True,\n",
              "        True,  True, False,  True,  True,  True,  True,  True,  True,\n",
              "        True,  True,  True,  True,  True,  True,  True,  True,  True,\n",
              "        True,  True,  True,  True,  True,  True,  True,  True,  True,\n",
              "        True, False,  True,  True, False,  True,  True,  True,  True,\n",
              "        True,  True,  True,  True,  True,  True,  True,  True,  True,\n",
              "        True])"
            ]
          },
          "metadata": {},
          "execution_count": 17
        }
      ],
      "source": [
        "# iii) utilize a indexação booleana para criar uma seleção de não-zeros\n",
        "# dica: inverta o objeto bool_zero\n",
        "poi_nao_zero = ~bool_zero\n",
        "poi_nao_zero"
      ]
    },
    {
      "cell_type": "code",
      "source": [
        "poi_nao_zero2 = poi[~bool_zero]\n",
        "poi_nao_zero2"
      ],
      "metadata": {
        "colab": {
          "base_uri": "https://localhost:8080/"
        },
        "id": "iTtz9cfoHDAo",
        "outputId": "ba530876-7eb7-4248-eb4a-ee4a305e59de"
      },
      "execution_count": 18,
      "outputs": [
        {
          "output_type": "execute_result",
          "data": {
            "text/plain": [
              "array([3, 3, 6, 2, 4, 5, 4, 4, 2, 3, 3, 2, 8, 2, 3, 3, 3, 4, 4, 2, 6, 6,\n",
              "       3, 4, 3, 5, 2, 1, 3, 2, 2, 3, 2, 4, 4, 5, 7, 3, 5, 3, 3, 2, 2, 3,\n",
              "       6, 2, 2, 4, 3, 5, 2, 5, 3, 2, 1, 1, 4, 4, 4, 6, 2, 4, 1, 2, 5, 5,\n",
              "       3, 4, 1, 4, 1, 1, 7, 1, 2, 1, 3, 7, 4, 4, 6, 1, 3, 4, 2, 5, 4, 5,\n",
              "       5, 3, 4, 6, 8, 2])"
            ]
          },
          "metadata": {},
          "execution_count": 18
        }
      ]
    }
  ],
  "metadata": {
    "kernelspec": {
      "display_name": "Python 3",
      "language": "python",
      "name": "python3"
    },
    "language_info": {
      "codemirror_mode": {
        "name": "ipython",
        "version": 3
      },
      "file_extension": ".py",
      "mimetype": "text/x-python",
      "name": "python",
      "nbconvert_exporter": "python",
      "pygments_lexer": "ipython3",
      "version": "3.8.5"
    },
    "colab": {
      "provenance": []
    }
  },
  "nbformat": 4,
  "nbformat_minor": 0
}